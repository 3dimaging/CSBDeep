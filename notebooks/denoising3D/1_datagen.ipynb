{
 "cells": [
  {
   "cell_type": "markdown",
   "metadata": {},
   "source": [
    "<hr style=\"height:2px;\">\n",
    "\n",
    "# Demo: Training data generation for denoising of *Tribolium castaneum*\n",
    "\n",
    "This notebook demonstrates training data generation for 3D denoising task, where corresponding pairs of low and high quality stacks are can be acquired. \n",
    "\n",
    "These pairs should be registered, which is best achieved by acquiring both stacks _interleaved_, i.e. as different channels hat correspond to the different exposure/laser settings. \n",
    "\n",
    "We will use a single pair of Tribolium stacks for demonstration, whereas in your application you should aim to acquire at least 10-50 stacks from different developmental timepoins to ensure a well trained model. \n",
    "\n",
    "\n",
    "More Documentation is available at http://csbdeep.bioimagecomputing.com/doc/"
   ]
  },
  {
   "cell_type": "code",
   "execution_count": null,
   "metadata": {},
   "outputs": [],
   "source": [
    "from __future__ import print_function, unicode_literals, absolute_import, division\n",
    "import numpy as np\n",
    "import matplotlib.pyplot as plt\n",
    "%matplotlib inline\n",
    "%config InlineBackend.figure_format = 'retina'\n",
    "from IPython.core.display import display, HTML\n",
    "display(HTML(\"<style>.rendered_html { font-size: 16px; }</style>\"))\n",
    "import os\n",
    "from tifffile import imread\n",
    "\n",
    "from csbdeep.utils import plot_some\n",
    "from csbdeep.utils import download_and_extract_zip_file\n",
    "from csbdeep.data import RawData, create_patches"
   ]
  },
  {
   "cell_type": "markdown",
   "metadata": {},
   "source": [
    "<hr style=\"height:2px;\">\n",
    "\n",
    "# Download example data"
   ]
  },
  {
   "cell_type": "markdown",
   "metadata": {},
   "source": [
    "First we download some example training data, consisting of low-SNR and high-SNR 3D images of Tribolium.\n",
    "\n",
    "We only download a single stack for demonstration, but you should have ~20-50 different stacks at different developmental timepoints for your own application.\n",
    "\n"
   ]
  },
  {
   "cell_type": "code",
   "execution_count": null,
   "metadata": {},
   "outputs": [],
   "source": [
    "download_and_extract_zip_file(\n",
    "    url = 'https://cloud.mpi-cbg.de/index.php/s/jKHFIS4isNwagMd/download',\n",
    "    provides = ('raw_data/tribolium/%s/nGFP_0.1_0.2_0.5_20_13_late.tif'%d for d in ('GT','low'))\n",
    ")"
   ]
  },
  {
   "cell_type": "markdown",
   "metadata": {},
   "source": [
    "The low/high images should now reside in your working directory like this (GT stands for 'Ground-truth' and represents high-SNR stacks):\n",
    "\n",
    "    raw_data/tribolium\n",
    "    ├── GT\n",
    "    │   └── nGFP_0.1_0.2_0.5_20_13_late.tif\n",
    "    └── low\n",
    "        └── nGFP_0.1_0.2_0.5_20_13_late.tif"
   ]
  },
  {
   "cell_type": "markdown",
   "metadata": {},
   "source": [
    "We can plot both via maximum-projection:"
   ]
  },
  {
   "cell_type": "code",
   "execution_count": null,
   "metadata": {},
   "outputs": [],
   "source": [
    "y = imread('raw_data/tribolium/GT/nGFP_0.1_0.2_0.5_20_13_late.tif')\n",
    "x = imread('raw_data/tribolium/low/nGFP_0.1_0.2_0.5_20_13_late.tif')\n",
    "print('image size =', x.shape)\n",
    "\n",
    "plt.figure(figsize=(15,10))\n",
    "plot_some(np.stack([x,y]),\n",
    "          title_list=[['low (maximum projection)','GT (maximum projection)']], \n",
    "          pmin=2,pmax=99.8);"
   ]
  },
  {
   "cell_type": "markdown",
   "metadata": {},
   "source": [
    "<hr style=\"height:2px;\">\n",
    "\n",
    "# Training Patch generation\n",
    "\n",
    "CARE expects to be given the training data images as a `RawData` object, which defines how to get the pairs of high/low stacks and the semantics of each axis (e.g. which one is considered a color channel).\n",
    "\n",
    "In our case we have two folders \"low\" and \"GT\" where corresponding low and high-SNR stacks have identical filenames, so we can simply use `RawData.from_folder` and set axes to `\"ZYX\"` (as we dont have a multi-colored image). \n"
   ]
  },
  {
   "cell_type": "code",
   "execution_count": null,
   "metadata": {},
   "outputs": [],
   "source": [
    "raw_data = RawData.from_folder(\n",
    "    basepath    = 'raw_data/tribolium',\n",
    "    source_dirs = ['low'],\n",
    "    target_dir  = 'GT',\n",
    "    axes        = 'ZYX',\n",
    ")"
   ]
  },
  {
   "cell_type": "markdown",
   "metadata": {},
   "source": [
    "From corresponding stacks, we now generate some 3D patches of size (16,64,64). Typically, you should use more patches, the more trainings stacks you have. By default patches are sampled from non-background regions (i.e. that are above a relative threshold), see the documenation of `create_patches` for details."
   ]
  },
  {
   "cell_type": "code",
   "execution_count": null,
   "metadata": {},
   "outputs": [],
   "source": [
    "X, Y, XY_axes = create_patches (\n",
    "    raw_data            = raw_data,\n",
    "    patch_size          = (16,64,64),\n",
    "    n_patches_per_image = 1024,\n",
    "    save_file           = 'my_training_data.npz',\n",
    ")"
   ]
  },
  {
   "cell_type": "code",
   "execution_count": null,
   "metadata": {},
   "outputs": [],
   "source": [
    "assert X.shape == Y.shape\n",
    "print(\"shape of X,Y =\", X.shape)\n",
    "print(\"axes  of X,Y =\", XY_axes)"
   ]
  },
  {
   "cell_type": "markdown",
   "metadata": {},
   "source": [
    "## Show"
   ]
  },
  {
   "cell_type": "markdown",
   "metadata": {},
   "source": [
    "This shows the maximum projection of some of those patch pairs (even rows: *input*, odd rows: *target*)"
   ]
  },
  {
   "cell_type": "code",
   "execution_count": null,
   "metadata": {},
   "outputs": [],
   "source": [
    "for i in range(2):\n",
    "    plt.figure(figsize=(16,4))\n",
    "    sl = slice(8*i, 8*(i+1)), 0\n",
    "    plot_some(X[sl],Y[sl],title_list=[np.arange(sl[0].start,sl[0].stop)])\n",
    "    plt.show()\n",
    "None;"
   ]
  },
  {
   "cell_type": "code",
   "execution_count": null,
   "metadata": {},
   "outputs": [],
   "source": []
  }
 ],
 "metadata": {
  "kernelspec": {
   "display_name": "Python 3",
   "language": "python",
   "name": "python3"
  },
  "language_info": {
   "codemirror_mode": {
    "name": "ipython",
    "version": 3
   },
   "file_extension": ".py",
   "mimetype": "text/x-python",
   "name": "python",
   "nbconvert_exporter": "python",
   "pygments_lexer": "ipython3",
   "version": "3.5.2"
  }
 },
 "nbformat": 4,
 "nbformat_minor": 2
}
