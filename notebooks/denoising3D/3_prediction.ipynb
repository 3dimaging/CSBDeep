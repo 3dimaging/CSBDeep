{
 "cells": [
  {
   "cell_type": "markdown",
   "metadata": {},
   "source": [
    "<hr style=\"height:2px;\">\n",
    "\n",
    "# Demo: Application of trained neural network for denoising of *Tribolium castaneum*\n",
    "\n",
    "\n",
    "\n",
    "- Assumes that training was already completed via [2_training.ipynb](2_training.ipynb).\n",
    "- The trained CARE network is here applied to the same image that the model was trained on (data generated via [1_datagen.ipynb](1_datagen.ipynb)).  \n",
    "Of course, in practice one would typically use it to restore images that the model hasn't seen during training.\n",
    "- Documentation available: http://csbdeep.bioimagecomputing.com/doc/"
   ]
  },
  {
   "cell_type": "markdown",
   "metadata": {},
   "source": [
    "<hr style=\"height:2px;\">\n",
    "# Setup "
   ]
  },
  {
   "cell_type": "code",
   "execution_count": null,
   "metadata": {},
   "outputs": [],
   "source": [
    "from __future__ import print_function, unicode_literals, absolute_import, division\n",
    "import numpy as np\n",
    "import matplotlib.pyplot as plt\n",
    "%matplotlib inline\n",
    "%config InlineBackend.figure_format = 'retina'\n",
    "from IPython.core.display import display, HTML\n",
    "#display(HTML(\"<style>.rendered_html { font-size: 16px; }</style>\"))\n",
    "import os\n",
    "from tifffile import imread\n",
    "\n",
    "from csbdeep.models import CARE\n",
    "from csbdeep.internals.predict import PercentileNormalizer, PadAndCropResizer\n",
    "from csbdeep.utils import plot_some"
   ]
  },
  {
   "cell_type": "markdown",
   "metadata": {},
   "source": [
    "<hr style=\"height:2px;\">\n",
    "\n",
    "# Download example data (if necessary)"
   ]
  },
  {
   "cell_type": "code",
   "execution_count": null,
   "metadata": {},
   "outputs": [],
   "source": [
    "from csbdeep.utils import download_and_extract_zip_file\n",
    "download_and_extract_zip_file(\n",
    "    url = 'https://cloud.mpi-cbg.de/index.php/s/jKHFIS4isNwagMd/download',\n",
    "    provides = ('raw_data/tribolium/%s/nGFP_0.1_0.2_0.5_20_13_late.tif'%d for d in ('GT','low'))\n",
    ")"
   ]
  },
  {
   "cell_type": "markdown",
   "metadata": {},
   "source": [
    "Data should have been downloaded like this:\n",
    "\n",
    "    raw_data/tribolium\n",
    "    ├── GT\n",
    "    │   └── nGFP_0.1_0.2_0.5_20_13_late.tif\n",
    "    └── low\n",
    "        └── nGFP_0.1_0.2_0.5_20_13_late.tif"
   ]
  },
  {
   "cell_type": "markdown",
   "metadata": {},
   "source": [
    "<hr style=\"height:2px;\">\n",
    "\n",
    "# Raw low-SNR image and associated high-SNR ground truth"
   ]
  },
  {
   "cell_type": "code",
   "execution_count": null,
   "metadata": {},
   "outputs": [],
   "source": [
    "y = imread('raw_data/tribolium/GT/nGFP_0.1_0.2_0.5_20_13_late.tif')\n",
    "x = imread('raw_data/tribolium/low/nGFP_0.1_0.2_0.5_20_13_late.tif')\n",
    "\n",
    "axes = 'ZYX'\n",
    "print('image size =', x.shape)\n",
    "print('image axes =', axes)\n",
    "\n",
    "plt.figure(figsize=(15,10))\n",
    "plot_some(np.stack([x,y]),\n",
    "          title_list=[['low (maximum projection)','GT (maximum projection)']], \n",
    "          pmin=2,pmax=99.8);"
   ]
  },
  {
   "cell_type": "markdown",
   "metadata": {},
   "source": [
    "<hr style=\"height:2px;\">\n",
    "\n",
    "# Model\n",
    "\n",
    "Load trained model (located in folder `my_model`) from disk.  \n",
    "The configuration was saved during training and is automatically loaded when `CARE` is initialized with `config=None`."
   ]
  },
  {
   "cell_type": "code",
   "execution_count": null,
   "metadata": {},
   "outputs": [],
   "source": [
    "model = CARE(config=None, name='my_model')\n",
    "model.load_weights()"
   ]
  },
  {
   "cell_type": "markdown",
   "metadata": {},
   "source": [
    "## Apply CARE network to raw image\n",
    "\n",
    "Predict the restored image (image will be sucessively split into tiles if there are memory issues) "
   ]
  },
  {
   "cell_type": "code",
   "execution_count": null,
   "metadata": {},
   "outputs": [],
   "source": [
    "%%time\n",
    "restored = model.predict(x, axes)"
   ]
  },
  {
   "cell_type": "markdown",
   "metadata": {},
   "source": [
    "Afterwards one can define `n_tiles` manually to avoid the successive memory checks (which incurs considerable prediction time overhead)"
   ]
  },
  {
   "cell_type": "code",
   "execution_count": null,
   "metadata": {},
   "outputs": [],
   "source": [
    "%%time\n",
    "restored = model.predict(x, axes, n_tiles=4)"
   ]
  },
  {
   "cell_type": "markdown",
   "metadata": {},
   "source": [
    "<hr style=\"height:2px;\">\n",
    "\n",
    "# Raw low-SNR image and denoised image via CARE network"
   ]
  },
  {
   "cell_type": "code",
   "execution_count": null,
   "metadata": {},
   "outputs": [],
   "source": [
    "plt.figure(figsize=(15,10))\n",
    "plot_some(np.stack([x,restored,y]), pmin=0,pmax=99.8,\n",
    "          title_list=[['low (maximum projection)','CARE (maximum projection)','GT (maximum projection)']]);"
   ]
  }
 ],
 "metadata": {
  "kernelspec": {
   "display_name": "Python 3",
   "language": "python",
   "name": "python3"
  },
  "language_info": {
   "codemirror_mode": {
    "name": "ipython",
    "version": 3
   },
   "file_extension": ".py",
   "mimetype": "text/x-python",
   "name": "python",
   "nbconvert_exporter": "python",
   "pygments_lexer": "ipython3",
   "version": "3.5.2"
  }
 },
 "nbformat": 4,
 "nbformat_minor": 2
}
