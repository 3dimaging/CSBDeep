{
 "cells": [
  {
   "cell_type": "markdown",
   "metadata": {},
   "source": [
    "<hr style=\"height:2px;\">\n",
    "\n",
    "# Demo: Training data generation for denoising of *Tribolium castaneum*\n",
    "\n",
    "### Notes\n",
    "\n",
    "- Training data generation for the case where both low SNR and corresponding high SNR stacks can be acquired.\n",
    "- Documentation available: http://csbdeep.bioimagecomputing.com/doc/"
   ]
  },
  {
   "cell_type": "code",
   "execution_count": null,
   "metadata": {},
   "outputs": [],
   "source": [
    "from __future__ import print_function, unicode_literals, absolute_import, division\n",
    "import numpy as np\n",
    "import matplotlib.pyplot as plt\n",
    "%matplotlib inline\n",
    "%config InlineBackend.figure_format = 'retina'\n",
    "\n",
    "import os\n",
    "from tifffile import imread\n",
    "from csbdeep import datagen\n",
    "from csbdeep.plot_utils import plot_some"
   ]
  },
  {
   "cell_type": "markdown",
   "metadata": {},
   "source": [
    "<hr style=\"height:2px;\">\n",
    "\n",
    "# Download example data"
   ]
  },
  {
   "cell_type": "code",
   "execution_count": null,
   "metadata": {},
   "outputs": [],
   "source": [
    "from csbdeep.utils import download_and_extract_zip_file\n",
    "download_and_extract_zip_file(\n",
    "    url = 'https://cloud.mpi-cbg.de/index.php/s/jKHFIS4isNwagMd/download',\n",
    "    provides = ('raw_data/tribolium/%s/nGFP_0.1_0.2_0.5_20_13_late.tif'%d for d in ('GT','low'))\n",
    ")"
   ]
  },
  {
   "cell_type": "markdown",
   "metadata": {},
   "source": [
    "Data should have been downloaded like this:\n",
    "\n",
    "    raw_data/tribolium\n",
    "    ├── GT\n",
    "    │   └── nGFP_0.1_0.2_0.5_20_13_late.tif\n",
    "    └── low\n",
    "        └── nGFP_0.1_0.2_0.5_20_13_late.tif"
   ]
  },
  {
   "cell_type": "markdown",
   "metadata": {},
   "source": [
    "<hr style=\"height:2px;\">\n",
    "\n",
    "# Raw data\n",
    "\n",
    "Corresponding low and high SNR stacks should have identical names but located in different folders.  \n",
    "We only show one stack for demonstration, but you should have ~20-50 different stacks at different developmental timepoints."
   ]
  },
  {
   "cell_type": "markdown",
   "metadata": {},
   "source": [
    "Let's just plot the low and high (GT) stacks:"
   ]
  },
  {
   "cell_type": "code",
   "execution_count": null,
   "metadata": {},
   "outputs": [],
   "source": [
    "y = imread('raw_data/tribolium/GT/nGFP_0.1_0.2_0.5_20_13_late.tif')\n",
    "x = imread('raw_data/tribolium/low/nGFP_0.1_0.2_0.5_20_13_late.tif')\n",
    "axes = 'ZYX'\n",
    "print('image size =', x.shape)\n",
    "print('image axes =', axes)\n",
    "\n",
    "plt.figure(figsize=(15,10))\n",
    "plot_some(np.stack([x,y]),title_list=[['low (maximum projection)','GT (maximum projection)']], pmin=2,pmax=99.8);"
   ]
  },
  {
   "cell_type": "markdown",
   "metadata": {},
   "source": [
    "<hr style=\"height:2px;\">\n",
    "\n",
    "# Patch generation\n",
    "\n",
    "From corresponding stacks, we generate 3D patches of size (16,64,64) that are sampled from regions of interesting structures. "
   ]
  },
  {
   "cell_type": "code",
   "execution_count": null,
   "metadata": {},
   "outputs": [],
   "source": [
    "raw_data = datagen.get_tiff_pairs_from_folders (\n",
    "    basepath    = 'raw_data/tribolium',\n",
    "    source_dirs = ['low'],\n",
    "    target_dir  = 'GT',\n",
    "    axes        = axes,\n",
    ")\n",
    "\n",
    "X, Y, XY_axes = datagen.create_patches (\n",
    "    raw_data            = raw_data,\n",
    "    patch_size          = (16,64,64),\n",
    "    n_patches_per_image = 1024,\n",
    "    save_file           = 'my_training_data.npz',\n",
    ")"
   ]
  },
  {
   "cell_type": "code",
   "execution_count": null,
   "metadata": {},
   "outputs": [],
   "source": [
    "assert X.shape == Y.shape\n",
    "print(\"shape of X,Y =\", X.shape)\n",
    "print(\"axes  of X,Y =\", XY_axes)"
   ]
  },
  {
   "cell_type": "markdown",
   "metadata": {},
   "source": [
    "## Show"
   ]
  },
  {
   "cell_type": "markdown",
   "metadata": {},
   "source": [
    "This shows the maximum projection of some of those patch pairs (first row: *source*, second row: *target*)"
   ]
  },
  {
   "cell_type": "code",
   "execution_count": null,
   "metadata": {},
   "outputs": [],
   "source": [
    "from csbdeep.plot_utils import plot_some\n",
    "\n",
    "for i in range(2):\n",
    "    plt.figure(figsize=(16,4))\n",
    "    sl = slice(8*i, 8*(i+1)), 0\n",
    "    plot_some(X[sl],Y[sl],title_list=[np.arange(sl[0].start,sl[0].stop)])\n",
    "    plt.show()\n",
    "None;"
   ]
  }
 ],
 "metadata": {
  "kernelspec": {
   "display_name": "Python 3",
   "language": "python",
   "name": "python3"
  },
  "language_info": {
   "codemirror_mode": {
    "name": "ipython",
    "version": 3
   },
   "file_extension": ".py",
   "mimetype": "text/x-python",
   "name": "python",
   "nbconvert_exporter": "python",
   "pygments_lexer": "ipython3",
   "version": "3.6.4"
  }
 },
 "nbformat": 4,
 "nbformat_minor": 2
}
