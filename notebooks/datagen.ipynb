{
 "cells": [
  {
   "cell_type": "markdown",
   "metadata": {},
   "source": [
    "<hr style=\"height:2px;\">\n",
    "\n",
    "# Training data generation for denoising of Tribolium\n",
    "\n",
    "We demonstrate training data generation for the case where both low SNR and corresponding high SNR stacks can be acquired.  \n"
   ]
  },
  {
   "cell_type": "code",
   "execution_count": null,
   "metadata": {},
   "outputs": [],
   "source": [
    "import numpy as np\n",
    "import matplotlib.pyplot as plt\n",
    "%matplotlib inline\n",
    "%config InlineBackend.figure_format = 'retina'\n",
    "import os\n",
    "from tifffile import imread\n",
    "from csbdeep import datagen\n",
    "from csbdeep.plot_utils import plot_some"
   ]
  },
  {
   "cell_type": "markdown",
   "metadata": {},
   "source": [
    "<hr style=\"height:2px;\">\n",
    "\n",
    "# Raw data\n",
    "\n",
    "Corresponding low and high stacks should have identical names but located in different folders. \n",
    "We only show one stack for demonstration, but you should have ~20-50 different stacks with at different developmental timepoints."
   ]
  },
  {
   "cell_type": "code",
   "execution_count": null,
   "metadata": {},
   "outputs": [],
   "source": [
    "ls raw_data/tribolium/*"
   ]
  },
  {
   "cell_type": "markdown",
   "metadata": {},
   "source": [
    "Lets just plot the low and high (GT) stacks:"
   ]
  },
  {
   "cell_type": "code",
   "execution_count": null,
   "metadata": {},
   "outputs": [],
   "source": [
    "y = imread('raw_data/tribolium/GT/nGFP_0.1_0.2_0.5_20_13_late.tif')\n",
    "x = imread('raw_data/tribolium/low/nGFP_0.1_0.2_0.5_20_13_late.tif')\n",
    "print('image size =', y.shape)\n",
    "\n",
    "plt.figure(figsize=(15,10))\n",
    "plot_some(np.stack([x,y]),title_list=[['input','output']], pmin=2,pmax = 99.8);"
   ]
  },
  {
   "cell_type": "markdown",
   "metadata": {},
   "source": [
    "<hr style=\"height:2px;\">\n",
    "\n",
    "# Patch generation\n",
    "\n",
    "From corresponding stacks, we generate 3D patches of size (16,128,128) that are sampled from regions of intersting structures. "
   ]
  },
  {
   "cell_type": "code",
   "execution_count": null,
   "metadata": {},
   "outputs": [],
   "source": [
    "X,Y = datagen.create_patches(p='data/tribolium/', n_samples=128, patch_size=(16,128,128),thresh_patch=0.4, inputs=[\"low\"])\n",
    "print(\"shape of X\", X.shape)\n",
    "print(\"shape of Y\", Y.shape)"
   ]
  },
  {
   "cell_type": "markdown",
   "metadata": {},
   "source": [
    "This shows the maximum projection of some of those patch pairs (even rows are inpout, odd rows output)"
   ]
  },
  {
   "cell_type": "code",
   "execution_count": null,
   "metadata": {},
   "outputs": [],
   "source": [
    "from csbdeep.plot_utils import plot_some\n",
    "\n",
    "for i in range(3):\n",
    "    plt.figure(figsize=(16,4))\n",
    "    sl = slice(8*i, 8*(i+1))\n",
    "    plot_some(X[sl],Y[sl], pmin=2, pmax=99.8)\n",
    "    plt.show()\n",
    "None;"
   ]
  }
 ],
 "metadata": {
  "kernelspec": {
   "display_name": "Python 3",
   "language": "python",
   "name": "python3"
  },
  "language_info": {
   "codemirror_mode": {
    "name": "ipython",
    "version": 3
   },
   "file_extension": ".py",
   "mimetype": "text/x-python",
   "name": "python",
   "nbconvert_exporter": "python",
   "pygments_lexer": "ipython3",
   "version": "3.5.0"
  }
 },
 "nbformat": 4,
 "nbformat_minor": 2
}
