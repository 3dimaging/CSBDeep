{
 "cells": [
  {
   "cell_type": "markdown",
   "metadata": {},
   "source": [
    "<hr style=\"height:2px;\">\n",
    "\n",
    "# Demo: Training data generation for isotropic ...\n",
    "\n",
    "### Notes\n",
    "\n",
    "- Documentation available: http://csbdeep.bioimagecomputing.com/doc/"
   ]
  },
  {
   "cell_type": "code",
   "execution_count": null,
   "metadata": {},
   "outputs": [],
   "source": [
    "from __future__ import print_function, unicode_literals, absolute_import, division\n",
    "import numpy as np\n",
    "import matplotlib.pyplot as plt\n",
    "%matplotlib inline\n",
    "%config InlineBackend.figure_format = 'retina'\n",
    "\n",
    "import os\n",
    "from tifffile import imread\n",
    "from csbdeep import datagen\n",
    "from csbdeep.plot_utils import plot_some"
   ]
  },
  {
   "cell_type": "markdown",
   "metadata": {},
   "source": [
    "Expect data like this:\n",
    "\n",
    "    raw_data\n",
    "    ├── test_stacks_sub_4\n",
    "    │   └── stack_low_sub_4_03.tif\n",
    "    └── training_stacks\n",
    "        ├── high\n",
    "        │   ├── stack_00.tif\n",
    "        │   ├── stack_01.tif\n",
    "        │   └── stack_02.tif\n",
    "        └── low\n",
    "            ├── stack_00.tif\n",
    "            ├── stack_01.tif\n",
    "            └── stack_02.tif"
   ]
  },
  {
   "cell_type": "markdown",
   "metadata": {},
   "source": [
    "<hr style=\"height:2px;\">\n",
    "\n",
    "# Raw 3D image stack with low z resolution\n",
    "\n",
    "We only show one stack for demonstration, but you should have different stacks at different developmental timepoints."
   ]
  },
  {
   "cell_type": "code",
   "execution_count": null,
   "metadata": {},
   "outputs": [],
   "source": [
    "y = imread('raw_data/training_stacks/high/stack_00.tif')\n",
    "x = imread('raw_data/training_stacks/low/stack_00.tif')\n",
    "axes = 'ZYX'\n",
    "print('image size =', x.shape)\n",
    "print('image axes =', axes)\n",
    "\n",
    "plt.figure(figsize=(15,10))\n",
    "plot_some(np.stack([x[:,:,0],y[:,:,0]]),title_list=[['low (ZY slice)','high (ZY slice)']], pmin=2,pmax=99.8);"
   ]
  },
  {
   "cell_type": "markdown",
   "metadata": {},
   "source": [
    "<hr style=\"height:2px;\">\n",
    "\n",
    "# Dev"
   ]
  },
  {
   "cell_type": "code",
   "execution_count": null,
   "metadata": {},
   "outputs": [],
   "source": [
    "#from csbdeep.plot_utils import to_color\n",
    "#raw_data = datagen.get_tiff_pairs_from_folders (\n",
    "#    basepath   = 'raw_data/training_stacks',\n",
    "#    source_dirs = ['low'],\n",
    "#    target_dir = 'high',\n",
    "#    axes = axes,\n",
    "#)\n",
    "#iso_transform = datagen.anisotropic_distortions(\n",
    "#    psf = None,\n",
    "#    subsample = 4,\n",
    "#    subsample_axis = 'Z',\n",
    "#    yield_target = 'target',\n",
    "#)\n",
    "#\n",
    "#gen_in = raw_data.generator()\n",
    "#gen_in = datagen.crop_images([slice(None),slice(0,256),slice(0,256)]).generator(gen_in)\n",
    "#gen_iso = iso_transform.generator(gen_in)\n",
    "#print(iso_transform.name)\n",
    "#\n",
    "#for x,y,axes,mask in gen_iso:\n",
    "#    plt.figure(figsize=(16,6))\n",
    "#    print(x.shape, y.shape)\n",
    "#    #a,b = x[10],y[10]\n",
    "#    a,b = x[:,10],y[:,10]\n",
    "#    c = to_color(np.stack([a,b]))\n",
    "#    plt.subplot(131); plt.imshow(a)\n",
    "#    plt.subplot(132); plt.imshow(b)\n",
    "#    plt.subplot(133); plt.imshow(c)\n",
    "#    break\n",
    "#None;"
   ]
  },
  {
   "cell_type": "markdown",
   "metadata": {},
   "source": [
    "<hr style=\"height:2px;\">\n",
    "\n",
    "# Patch generation\n",
    "\n",
    "From corresponding stacks, we generate 3D patches."
   ]
  },
  {
   "cell_type": "code",
   "execution_count": null,
   "metadata": {},
   "outputs": [],
   "source": [
    "raw_data = datagen.get_tiff_pairs_from_folders (\n",
    "    basepath    = 'raw_data/training_stacks',\n",
    "    source_dirs = ['low'],\n",
    "    target_dir  = 'high',\n",
    "    axes        = axes,\n",
    ")\n",
    "\n",
    "iso_transform = datagen.anisotropic_distortions(\n",
    "    psf            = None,\n",
    "    subsample      = 4,\n",
    "    subsample_axis = 'Z',\n",
    "    yield_target   = 'target',\n",
    ")\n",
    "\n",
    "X, Y, XY_axes = datagen.create_patches (\n",
    "    raw_data            = raw_data,\n",
    "    patch_size          = (64,64,64),\n",
    "    patch_axes          = 'ZYX',\n",
    "    n_patches_per_image = 512,\n",
    "    transforms          = [iso_transform],\n",
    "    save_file           = 'my_training_data.npz',\n",
    ")"
   ]
  },
  {
   "cell_type": "code",
   "execution_count": null,
   "metadata": {},
   "outputs": [],
   "source": [
    "assert X.shape == Y.shape\n",
    "print(\"shape of X,Y =\", X.shape)\n",
    "print(\"axes  of X,Y =\", XY_axes)"
   ]
  },
  {
   "cell_type": "markdown",
   "metadata": {},
   "source": [
    "## Show"
   ]
  },
  {
   "cell_type": "markdown",
   "metadata": {},
   "source": [
    "Show some of those patch pairs (first row: *source*, second row: *target*)"
   ]
  },
  {
   "cell_type": "code",
   "execution_count": null,
   "metadata": {},
   "outputs": [],
   "source": [
    "from csbdeep.plot_utils import plot_some\n",
    "\n",
    "for i in range(2):\n",
    "    plt.figure(figsize=(16,4))\n",
    "    sl = slice(8*i, 8*(i+1))\n",
    "    sl = slice(8*i, 8*(i+1)), slice(None), slice(None), 0\n",
    "    plot_some(np.moveaxis(X[sl],1,-1),np.moveaxis(Y[sl],1,-1),title_list=[np.arange(sl[0].start,sl[0].stop)])\n",
    "    plt.show()\n",
    "None;"
   ]
  }
 ],
 "metadata": {
  "kernelspec": {
   "display_name": "Python 3",
   "language": "python",
   "name": "python3"
  },
  "language_info": {
   "codemirror_mode": {
    "name": "ipython",
    "version": 3
   },
   "file_extension": ".py",
   "mimetype": "text/x-python",
   "name": "python",
   "nbconvert_exporter": "python",
   "pygments_lexer": "ipython3",
   "version": "3.6.4"
  }
 },
 "nbformat": 4,
 "nbformat_minor": 2
}
