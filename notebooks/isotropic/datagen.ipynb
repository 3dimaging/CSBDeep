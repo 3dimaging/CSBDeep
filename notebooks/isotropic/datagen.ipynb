{
 "cells": [
  {
   "cell_type": "markdown",
   "metadata": {},
   "source": [
    "<hr style=\"height:2px;\">\n",
    "\n",
    "# Demo: Training data generation for isotropic reconstruction of Zebrafish retina\n",
    "\n",
    "### Notes\n",
    "\n",
    "- Documentation available: http://csbdeep.bioimagecomputing.com/doc/"
   ]
  },
  {
   "cell_type": "code",
   "execution_count": null,
   "metadata": {},
   "outputs": [],
   "source": [
    "import numpy as np\n",
    "import matplotlib.pyplot as plt\n",
    "%matplotlib inline\n",
    "%config InlineBackend.figure_format = 'retina'\n",
    "\n",
    "import os\n",
    "from tifffile import imread\n",
    "from csbdeep import datagen\n",
    "from csbdeep.plot_utils import plot_some"
   ]
  },
  {
   "cell_type": "markdown",
   "metadata": {},
   "source": [
    "<hr style=\"height:2px;\">\n",
    "\n",
    "# Download example data"
   ]
  },
  {
   "cell_type": "code",
   "execution_count": null,
   "metadata": {},
   "outputs": [],
   "source": [
    "from csbdeep.utils import download_and_extract_zip_file\n",
    "download_and_extract_zip_file(\n",
    "    url = 'https://cloud.mpi-cbg.de/index.php/s/Vu0rN1G33z9hQa4/download',\n",
    "    provides = ('raw_data/retina/cropped_farred_RFP_GFP_2109175_2color_sub_10.20.tif',)\n",
    ")"
   ]
  },
  {
   "cell_type": "markdown",
   "metadata": {},
   "source": [
    "Data should have been downloaded like this:\n",
    "\n",
    "    raw_data/\n",
    "    └── retina\n",
    "        └── cropped_farred_RFP_GFP_2109175_2color_sub_10.20.tif"
   ]
  },
  {
   "cell_type": "markdown",
   "metadata": {},
   "source": [
    "<hr style=\"height:2px;\">\n",
    "\n",
    "# Raw 3D image stack with low z resolution\n",
    "\n",
    "We only show one stack for demonstration, but you should have different stacks at different developmental timepoints."
   ]
  },
  {
   "cell_type": "code",
   "execution_count": null,
   "metadata": {},
   "outputs": [],
   "source": [
    "x = imread('raw_data/retina/cropped_farred_RFP_GFP_2109175_2color_sub_10.20.tif')\n",
    "axes = 'ZCYX'\n",
    "subsample = 10.2\n",
    "print('image size       =', x.shape)\n",
    "print('image axes       =', axes)\n",
    "print('subsample factor =', subsample)\n",
    "\n",
    "\n",
    "plt.figure(figsize=(15,15))\n",
    "plot_some(np.moveaxis(x,1,-1)[[5,-5]], title_list=[['xy slice','xy slice']], pmin=2,pmax=99.8);\n",
    "\n",
    "plt.figure(figsize=(15,15))\n",
    "plot_some(np.moveaxis(np.moveaxis(x,1,-1)[:,[50,-50]],1,0), title_list=[['xz slice','xz slice']], pmin=2,pmax=99.8, aspect=subsample);"
   ]
  },
  {
   "cell_type": "markdown",
   "metadata": {},
   "source": [
    "<hr style=\"height:2px;\">\n",
    "\n",
    "# Dev"
   ]
  },
  {
   "cell_type": "code",
   "execution_count": null,
   "metadata": {},
   "outputs": [],
   "source": [
    "#from csbdeep.plot_utils import to_color\n",
    "#raw_data = datagen.get_tiff_pairs_from_folders (\n",
    "#    basepath   = 'raw_data',\n",
    "#    source_dirs = ['retina'],\n",
    "#    target_dir = 'retina',\n",
    "#    axes = axes,\n",
    "#)\n",
    "#iso_transform = datagen.anisotropic_distortions(\n",
    "#    psf = None,\n",
    "#    #psf = np.ones((1,1,1,1)),\n",
    "#    #psf_axes = 'XYCZ',\n",
    "#    poisson_noise=0,\n",
    "#    gauss_sigma=0,\n",
    "#    subsample = 5,\n",
    "#)\n",
    "#\n",
    "#gen_iso = iso_transform.generator(raw_data.generator())\n",
    "#print(iso_transform.name)\n",
    "#for x,y,axes,mask in gen_iso:\n",
    "#    plt.figure(figsize=(16,6))\n",
    "#    print(x.shape, y.shape)\n",
    "#    a,b = x[10,1],y[10,1]\n",
    "#    c = to_color(np.stack([a,b]))\n",
    "#    plt.subplot(131); plt.imshow(a)\n",
    "#    plt.subplot(132); plt.imshow(b)\n",
    "#    plt.subplot(133); plt.imshow(c)\n",
    "#None;"
   ]
  },
  {
   "cell_type": "markdown",
   "metadata": {},
   "source": [
    "<hr style=\"height:2px;\">\n",
    "\n",
    "# Patch generation\n",
    "\n",
    "From corresponding stacks, we generate 3D patches of size (1,2,128,128), where we drop the z dimensions before saving the patches to disk"
   ]
  },
  {
   "cell_type": "code",
   "execution_count": null,
   "metadata": {},
   "outputs": [],
   "source": [
    "raw_data = datagen.get_tiff_pairs_from_folders (\n",
    "    basepath    = 'raw_data',\n",
    "    source_dirs = ['retina'],\n",
    "    target_dir  = 'retina',\n",
    "    axes        = axes,\n",
    ")\n",
    "\n",
    "iso_transform = datagen.anisotropic_distortions(\n",
    "    subsample = 10.2,\n",
    "    psf       = None,\n",
    ")\n",
    "\n",
    "X, Y, XY_axes = datagen.create_patches (\n",
    "    raw_data            = raw_data,\n",
    "    patch_size          = (1,2,128,128),\n",
    "    #patch_axes          = axes,\n",
    "    n_patches_per_image = 512,\n",
    "    transforms          = [iso_transform],\n",
    ")"
   ]
  },
  {
   "cell_type": "code",
   "execution_count": null,
   "metadata": {},
   "outputs": [],
   "source": [
    "assert X.shape == Y.shape\n",
    "print(\"shape of X,Y =\", X.shape)\n",
    "print(\"axes  of X,Y =\", XY_axes)"
   ]
  },
  {
   "cell_type": "code",
   "execution_count": null,
   "metadata": {},
   "outputs": [],
   "source": [
    "# remove dummy z dim to obtain multi-channel 2D patches\n",
    "X = X[:,:,0,...]\n",
    "Y = Y[:,:,0,...]\n",
    "XY_axes = XY_axes.replace('Z','')"
   ]
  },
  {
   "cell_type": "code",
   "execution_count": null,
   "metadata": {},
   "outputs": [],
   "source": [
    "assert X.shape == Y.shape\n",
    "print(\"shape of X,Y =\", X.shape)\n",
    "print(\"axes  of X,Y =\", XY_axes)"
   ]
  },
  {
   "cell_type": "markdown",
   "metadata": {},
   "source": [
    "## Save extracted training data to disk\n",
    "\n",
    "We will load this later to train the neural network."
   ]
  },
  {
   "cell_type": "code",
   "execution_count": null,
   "metadata": {},
   "outputs": [],
   "source": [
    "np.savez('my_training_data.npz', X=X, Y=Y, axes=XY_axes)"
   ]
  },
  {
   "cell_type": "markdown",
   "metadata": {},
   "source": [
    "## Show"
   ]
  },
  {
   "cell_type": "markdown",
   "metadata": {},
   "source": [
    "Show some of those patch pairs (first row: *source*, second row: *target*)"
   ]
  },
  {
   "cell_type": "code",
   "execution_count": null,
   "metadata": {},
   "outputs": [],
   "source": [
    "from csbdeep.plot_utils import plot_some\n",
    "\n",
    "for i in range(2):\n",
    "    plt.figure(figsize=(16,4))\n",
    "    sl = slice(8*i, 8*(i+1))\n",
    "    plot_some(np.moveaxis(X[sl],1,-1),np.moveaxis(Y[sl],1,-1),title_list=[np.arange(sl.start,sl.stop)])\n",
    "    plt.show()\n",
    "None;"
   ]
  }
 ],
 "metadata": {
  "kernelspec": {
   "display_name": "Python 3",
   "language": "python",
   "name": "python3"
  },
  "language_info": {
   "codemirror_mode": {
    "name": "ipython",
    "version": 3
   },
   "file_extension": ".py",
   "mimetype": "text/x-python",
   "name": "python",
   "nbconvert_exporter": "python",
   "pygments_lexer": "ipython3",
   "version": "3.6.4"
  }
 },
 "nbformat": 4,
 "nbformat_minor": 2
}
