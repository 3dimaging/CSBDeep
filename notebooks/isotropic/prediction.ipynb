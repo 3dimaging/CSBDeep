{
 "cells": [
  {
   "cell_type": "markdown",
   "metadata": {},
   "source": [
    "<hr style=\"height:2px;\">\n",
    "\n",
    "# Demo: Application of trained neural network for isotropic reconstruction of *Danio rerio* retina\n",
    "\n",
    "### Notes \n",
    "\n",
    "- Assumes that training was already completed via [training.ipynb](training.ipynb).\n",
    "- The trained CARE network is here applied to the same image that the model was trained on (data generated via [datagen.ipynb](datagen.ipynb)).  \n",
    "Of course, in practice one would typically use it to restore images that the model hasn't seen during training.\n",
    "- Documentation available: http://csbdeep.bioimagecomputing.com/doc/"
   ]
  },
  {
   "cell_type": "markdown",
   "metadata": {},
   "source": [
    "<hr style=\"height:2px;\">\n",
    "# Setup "
   ]
  },
  {
   "cell_type": "code",
   "execution_count": null,
   "metadata": {},
   "outputs": [],
   "source": [
    "import numpy as np\n",
    "import matplotlib.pyplot as plt\n",
    "%matplotlib inline\n",
    "%config InlineBackend.figure_format = 'retina'\n",
    "\n",
    "import os\n",
    "from tifffile import imread\n",
    "from csbdeep.models import IsotropicCARE\n",
    "from csbdeep.predict import PercentileNormalizer, PadAndCropResizer\n",
    "from csbdeep.plot_utils import plot_some"
   ]
  },
  {
   "cell_type": "code",
   "execution_count": null,
   "metadata": {},
   "outputs": [],
   "source": [
    "#try:\n",
    "#    import gputools\n",
    "#    from csbdeep.tf import limit_gpu_memory\n",
    "#    limit_gpu_memory(fraction=3/4)    \n",
    "#except ImportError:\n",
    "#    pass"
   ]
  },
  {
   "cell_type": "markdown",
   "metadata": {},
   "source": [
    "<hr style=\"height:2px;\">\n",
    "\n",
    "# Download example data (if necessary)"
   ]
  },
  {
   "cell_type": "code",
   "execution_count": null,
   "metadata": {},
   "outputs": [],
   "source": [
    "from csbdeep.utils import download_and_extract_zip_file\n",
    "download_and_extract_zip_file(\n",
    "    url = 'https://cloud.mpi-cbg.de/index.php/s/Vu0rN1G33z9hQa4/download',\n",
    "    provides = ('raw_data/retina/cropped_farred_RFP_GFP_2109175_2color_sub_10.20.tif',)\n",
    ")"
   ]
  },
  {
   "cell_type": "markdown",
   "metadata": {},
   "source": [
    "Data should have been downloaded like this:\n",
    "\n",
    "    raw_data/\n",
    "    └── retina\n",
    "        └── cropped_farred_RFP_GFP_2109175_2color_sub_10.20.tif"
   ]
  },
  {
   "cell_type": "markdown",
   "metadata": {},
   "source": [
    "<hr style=\"height:2px;\">\n",
    "\n",
    "# Raw 3D image stack with low z resolution"
   ]
  },
  {
   "cell_type": "code",
   "execution_count": null,
   "metadata": {},
   "outputs": [],
   "source": [
    "x = imread('raw_data/retina/cropped_farred_RFP_GFP_2109175_2color_sub_10.20.tif')\n",
    "print('image size =', x.shape)\n",
    "\n",
    "plt.figure(figsize=(15,15))\n",
    "plot_some(np.moveaxis(x,1,0)[:,10],\n",
    "          np.moveaxis(x,1,0)[:,:,64],\n",
    "          title_list=[['xy slice, channel 0','xy slice, channel 1'],\n",
    "                      ['xz slice, channel 0','xz slice, channel 1']],\n",
    "          pmin=2, pmax=99.8);"
   ]
  },
  {
   "cell_type": "code",
   "execution_count": null,
   "metadata": {},
   "outputs": [],
   "source": [
    "plt.figure(figsize=(15,15))\n",
    "plot_some(np.moveaxis(np.moveaxis(x,1,-1)[:,[50,-50]],1,0), title_list=[['xz slice','xz slice']], pmin=2,pmax=99.8);"
   ]
  },
  {
   "cell_type": "markdown",
   "metadata": {},
   "source": [
    "<hr style=\"height:2px;\">\n",
    "\n",
    "# Model\n",
    "\n",
    "Load trained model (located in folder `my_model`) from disk.  \n",
    "The configuration was saved during training and is automatically loaded when `CARE` is initialized with `config=None`."
   ]
  },
  {
   "cell_type": "code",
   "execution_count": null,
   "metadata": {},
   "outputs": [],
   "source": [
    "model = IsotropicCARE(config=None, name='my_model')\n",
    "model.load_weights()"
   ]
  },
  {
   "cell_type": "markdown",
   "metadata": {},
   "source": [
    "- Select appropriate normalization\n",
    "- Choose how to resize the image to be able to apply the model"
   ]
  },
  {
   "cell_type": "code",
   "execution_count": null,
   "metadata": {},
   "outputs": [],
   "source": [
    "normalizer = PercentileNormalizer(1,99.8)\n",
    "resizer = PadAndCropResizer()"
   ]
  },
  {
   "cell_type": "markdown",
   "metadata": {},
   "source": [
    "## Apply CARE network to raw image\n",
    "\n",
    "Predict the restored image"
   ]
  },
  {
   "cell_type": "code",
   "execution_count": null,
   "metadata": {},
   "outputs": [],
   "source": [
    "%%time\n",
    "\n",
    "z_factor = 10.2 # z upscaling factor\n",
    "restored = model.predict(x, z_factor, normalizer, resizer, z=0, channel=1)\n",
    "\n",
    "print('input  (z, ch, y, x) = ', x.shape)\n",
    "print('output (z, ch, y, x) = ', restored.shape)\n",
    "print()"
   ]
  },
  {
   "cell_type": "markdown",
   "metadata": {},
   "source": [
    "<hr style=\"height:2px;\">\n",
    "\n",
    "# Reconstructed image via CARE network"
   ]
  },
  {
   "cell_type": "code",
   "execution_count": null,
   "metadata": {},
   "outputs": [],
   "source": [
    "plt.figure(figsize=(15,15))\n",
    "plot_some(np.moveaxis(restored,1,0)[:,100],\n",
    "          np.moveaxis(restored,1,0)[:,:,64],\n",
    "          title_list=[['xy slice, channel 0','xy slice, channel 1'],\n",
    "                      ['xz slice, channel 0','xz slice, channel 1']],\n",
    "          pmin=2, pmax=99.8);"
   ]
  },
  {
   "cell_type": "code",
   "execution_count": null,
   "metadata": {},
   "outputs": [],
   "source": [
    "plt.figure(figsize=(15,15))\n",
    "plot_some(np.moveaxis(np.moveaxis(restored,1,-1)[:,[50,-50]],1,0), title_list=[['xz slice','xz slice']], pmin=2,pmax=99.8);"
   ]
  }
 ],
 "metadata": {
  "kernelspec": {
   "display_name": "Python 3",
   "language": "python",
   "name": "python3"
  },
  "language_info": {
   "codemirror_mode": {
    "name": "ipython",
    "version": 3
   },
   "file_extension": ".py",
   "mimetype": "text/x-python",
   "name": "python",
   "nbconvert_exporter": "python",
   "pygments_lexer": "ipython3",
   "version": "3.6.4"
  }
 },
 "nbformat": 4,
 "nbformat_minor": 2
}
