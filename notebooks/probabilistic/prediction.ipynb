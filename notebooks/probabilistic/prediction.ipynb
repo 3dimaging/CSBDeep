{
 "cells": [
  {
   "cell_type": "markdown",
   "metadata": {},
   "source": [
    "<hr style=\"height:2px;\">\n",
    "\n",
    "# Demo: Probabilistic prediction for denoising of 2D toy data\n",
    "\n",
    "### Notes \n",
    "\n",
    "- Assumes that training was already completed via [training.ipynb](training.ipynb).\n",
    "- The trained CARE network is here applied to the same image that the model was trained on.  \n",
    "Of course, in practice one would typically use it to restore images that the model hasn't seen during training.\n",
    "- Documentation available: http://csbdeep.bioimagecomputing.com/doc/"
   ]
  },
  {
   "cell_type": "markdown",
   "metadata": {},
   "source": [
    "<hr style=\"height:2px;\">\n",
    "# Setup "
   ]
  },
  {
   "cell_type": "code",
   "execution_count": null,
   "metadata": {},
   "outputs": [],
   "source": [
    "import numpy as np\n",
    "import matplotlib.pyplot as plt\n",
    "%matplotlib inline\n",
    "%config InlineBackend.figure_format = 'retina'\n",
    "\n",
    "import os\n",
    "from tifffile import imread\n",
    "from csbdeep.models import CARE\n",
    "from csbdeep.predict import NoNormalizer\n",
    "from csbdeep.plot_utils import plot_some"
   ]
  },
  {
   "cell_type": "markdown",
   "metadata": {},
   "source": [
    "<hr style=\"height:2px;\">\n",
    "\n",
    "# Download example data (if necessary)"
   ]
  },
  {
   "cell_type": "code",
   "execution_count": null,
   "metadata": {},
   "outputs": [],
   "source": [
    "from csbdeep.utils import download_and_extract_zip_file\n",
    "download_and_extract_zip_file(\n",
    "    url = 'https://cloud.mpi-cbg.de/index.php/s/OnQFwcB0vCASBMu/download',\n",
    "    provides = ('toy_data.npz',)\n",
    ")"
   ]
  },
  {
   "cell_type": "code",
   "execution_count": null,
   "metadata": {},
   "outputs": [],
   "source": [
    "from csbdeep.train import load_data\n",
    "(X,Y), (X_val,Y_val), axes = load_data('toy_data.npz', axes='SCYX', validation_split=0.1)\n",
    "X_val, Y_val = X_val[...,0], Y_val[...,0]\n",
    "axes = axes[:-1]\n",
    "del X,Y"
   ]
  },
  {
   "cell_type": "markdown",
   "metadata": {},
   "source": [
    "<hr style=\"height:2px;\">\n",
    "\n",
    "# Input image and associated ground truth"
   ]
  },
  {
   "cell_type": "code",
   "execution_count": null,
   "metadata": {},
   "outputs": [],
   "source": [
    "y = Y_val[2]\n",
    "x = X_val[2]\n",
    "axes = axes[1:]\n",
    "print('image size =', x.shape)\n",
    "print('image axes =', axes)\n",
    "\n",
    "plt.figure(figsize=(15,10))\n",
    "plot_some(np.stack([x,y]),title_list=[['input','target (GT)']], pmin=2,pmax=99.8);"
   ]
  },
  {
   "cell_type": "markdown",
   "metadata": {},
   "source": [
    "<hr style=\"height:2px;\">\n",
    "\n",
    "# Model\n",
    "\n",
    "Load trained model (located in folder `my_model`) from disk.  \n",
    "The configuration was saved during training and is automatically loaded when `CARE` is initialized with `config=None`."
   ]
  },
  {
   "cell_type": "code",
   "execution_count": null,
   "metadata": {},
   "outputs": [],
   "source": [
    "model = CARE(config=None, name='my_model')\n",
    "model.load_weights()"
   ]
  },
  {
   "cell_type": "markdown",
   "metadata": {},
   "source": [
    "- Select appropriate normalization (no need to normalize here since chosen image here is already normalized)"
   ]
  },
  {
   "cell_type": "code",
   "execution_count": null,
   "metadata": {},
   "outputs": [],
   "source": [
    "normalizer = NoNormalizer()"
   ]
  },
  {
   "cell_type": "markdown",
   "metadata": {},
   "source": [
    "## Typical CARE prediction\n",
    "\n",
    "Predict the restored image as in the non-probabilistic case if you're inly interested in a restored image.  \n",
    "But actually, the network returns the expected restored image for a probabilistic network."
   ]
  },
  {
   "cell_type": "code",
   "execution_count": null,
   "metadata": {},
   "outputs": [],
   "source": [
    "restored = model.predict(x, axes, normalizer)"
   ]
  },
  {
   "cell_type": "code",
   "execution_count": null,
   "metadata": {},
   "outputs": [],
   "source": [
    "plt.figure(figsize=(15,10))\n",
    "plot_some(np.stack([x,restored]), title_list=[['input','expected restored image']], pmin=2,pmax=99.8);"
   ]
  },
  {
   "cell_type": "markdown",
   "metadata": {},
   "source": [
    "<hr style=\"height:2px;\">\n",
    "\n",
    "# Probabilistic prediction\n",
    "\n",
    "Prediction of per-pixel Laplace distributions."
   ]
  },
  {
   "cell_type": "code",
   "execution_count": null,
   "metadata": {},
   "outputs": [],
   "source": [
    "prob = model.predict_probabilistic(x, axes, normalizer)"
   ]
  },
  {
   "cell_type": "code",
   "execution_count": null,
   "metadata": {},
   "outputs": [],
   "source": [
    "plt.figure(figsize=(15,10))\n",
    "plot_some(np.stack([prob.mean(),prob.scale()]), title_list=[['mean','scale']], pmin=2,pmax=99.8);"
   ]
  },
  {
   "cell_type": "code",
   "execution_count": null,
   "metadata": {},
   "outputs": [],
   "source": [
    "plt.figure(figsize=(15,10))\n",
    "plot_some(np.stack([prob.var(),prob.entropy()]), title_list=[['variance','entropy']], pmin=2,pmax=99.8);"
   ]
  },
  {
   "cell_type": "markdown",
   "metadata": {},
   "source": [
    "## Sampling restored images"
   ]
  },
  {
   "cell_type": "code",
   "execution_count": null,
   "metadata": {},
   "outputs": [],
   "source": [
    "gen = prob.sampling_generator(50)\n",
    "samples = np.stack(gen)\n",
    "\n",
    "plt.figure(figsize=(15,4))\n",
    "plot_some(samples[:3], pmin=2,pmax=99.8);"
   ]
  },
  {
   "cell_type": "markdown",
   "metadata": {},
   "source": [
    "### Sampling animation"
   ]
  },
  {
   "cell_type": "code",
   "execution_count": null,
   "metadata": {},
   "outputs": [],
   "source": [
    "from matplotlib import animation\n",
    "from IPython.display import HTML\n",
    "\n",
    "fig = plt.figure(figsize=(8,8))\n",
    "clim = np.percentile(samples,2), np.percentile(samples,99.8)\n",
    "im = plt.imshow(samples[0], clim=clim)\n",
    "plt.close()\n",
    "\n",
    "def updatefig(j):\n",
    "    im.set_array(samples[j])\n",
    "    return [im]\n",
    "\n",
    "anim = animation.FuncAnimation(fig, updatefig, frames=len(samples), interval=50)\n",
    "HTML(anim.to_jshtml())"
   ]
  },
  {
   "cell_type": "markdown",
   "metadata": {},
   "source": [
    "## Prediction along line profile with credible intervals"
   ]
  },
  {
   "cell_type": "code",
   "execution_count": null,
   "metadata": {},
   "outputs": [],
   "source": [
    "i = 61\n",
    "line = prob[i]\n",
    "n = len(line.mean())\n",
    "\n",
    "plt.figure(figsize=(16,9))\n",
    "plt.subplot(211)\n",
    "plt.imshow(prob.mean()[i-15:i+15])\n",
    "plt.plot(range(n),15*np.ones(n),'--r',linewidth=2)\n",
    "plt.title('expected restored image')\n",
    "plt.xlim(0,n-1); plt.axis('off')\n",
    "\n",
    "plt.subplot(212)\n",
    "q = 0.025\n",
    "plt.fill_between(range(n), line.ppf(q), line.ppf(1-q), alpha=0.5, label='%.0f%% credible interval'%(100*(1-2*q)))\n",
    "plt.plot(line.mean(),linewidth=3, label='expected restored image')\n",
    "plt.plot(y[i],'--',linewidth=3, label='ground truth')\n",
    "plt.plot(x[i],':',linewidth=1, label='input image')\n",
    "plt.title('line profile')\n",
    "plt.xlim(0,n-1); plt.legend(loc='lower right')\n",
    "\n",
    "None;"
   ]
  }
 ],
 "metadata": {
  "kernelspec": {
   "display_name": "Python 3",
   "language": "python",
   "name": "python3"
  },
  "language_info": {
   "codemirror_mode": {
    "name": "ipython",
    "version": 3
   },
   "file_extension": ".py",
   "mimetype": "text/x-python",
   "name": "python",
   "nbconvert_exporter": "python",
   "pygments_lexer": "ipython3",
   "version": "3.6.4"
  }
 },
 "nbformat": 4,
 "nbformat_minor": 2
}
