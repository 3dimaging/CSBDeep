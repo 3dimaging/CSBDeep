{
 "cells": [
  {
   "cell_type": "markdown",
   "metadata": {},
   "source": [
    "<hr style=\"height:2px;\">\n",
    "\n",
    "# Demo: Probabilistic neural network training for denoising of 2D toy data\n",
    "\n",
    "### Notes \n",
    "\n",
    "- Training a neural network for actual use should be done on more (representative) data and with more training time.\n",
    "- Documentation available: http://csbdeep.bioimagecomputing.com/doc/"
   ]
  },
  {
   "cell_type": "markdown",
   "metadata": {},
   "source": [
    "<hr style=\"height:2px;\">\n",
    "# Setup "
   ]
  },
  {
   "cell_type": "code",
   "execution_count": null,
   "metadata": {},
   "outputs": [],
   "source": [
    "import numpy as np\n",
    "import matplotlib.pyplot as plt\n",
    "%matplotlib inline\n",
    "%config InlineBackend.figure_format = 'retina'\n",
    "\n",
    "import csbdeep\n",
    "from csbdeep.utils import axes_dict\n",
    "from csbdeep.train import load_data\n",
    "from csbdeep.models import Config, CARE\n",
    "from csbdeep.tf import limit_gpu_memory\n",
    "from csbdeep.plot_utils import plot_some"
   ]
  },
  {
   "cell_type": "markdown",
   "metadata": {},
   "source": [
    "TensorFlow uses all available GPU memory by default, hence it can be useful to limit it:"
   ]
  },
  {
   "cell_type": "code",
   "execution_count": null,
   "metadata": {},
   "outputs": [],
   "source": [
    "# limit_gpu_memory(fraction=1/2)"
   ]
  },
  {
   "cell_type": "markdown",
   "metadata": {},
   "source": [
    "<hr style=\"height:2px;\">\n",
    "\n",
    "# Training data\n",
    "\n",
    "Load provided training images and use 10% as validation data."
   ]
  },
  {
   "cell_type": "code",
   "execution_count": null,
   "metadata": {},
   "outputs": [],
   "source": [
    "from csbdeep.utils import download_and_extract_zip_file\n",
    "download_and_extract_zip_file(\n",
    "    url = 'https://cloud.mpi-cbg.de/index.php/s/OnQFwcB0vCASBMu/download',\n",
    "    provides = ('toy_data.npz',)\n",
    ")"
   ]
  },
  {
   "cell_type": "code",
   "execution_count": null,
   "metadata": {},
   "outputs": [],
   "source": [
    "(X,Y), (X_val,Y_val), data_axes = load_data('toy_data.npz', axes='SCYX', validation_split=0.1)\n",
    "ax = axes_dict(data_axes)\n",
    "\n",
    "n_train, n_val = len(X), len(X_val)\n",
    "image_size = tuple(X.shape[i] for i in ((ax['Z'],ax['Y'],ax['X']) if (ax['Z'] is not None) else (ax['Y'],ax['X'])))\n",
    "n_dim = len(image_size)\n",
    "n_channel_in, n_channel_out = X.shape[ax['C']], Y.shape[ax['C']]"
   ]
  },
  {
   "cell_type": "code",
   "execution_count": null,
   "metadata": {},
   "outputs": [],
   "source": [
    "print('number of training images:\\t', n_train)\n",
    "print('number of validation images:\\t', n_val)\n",
    "print('image size (%dD):\\t\\t'%n_dim, image_size)\n",
    "print('Channels in / out:\\t\\t', n_channel_in, '/', n_channel_out)"
   ]
  },
  {
   "cell_type": "code",
   "execution_count": null,
   "metadata": {},
   "outputs": [],
   "source": [
    "plt.figure(figsize=(10,4))\n",
    "plot_some(X_val[:5],Y_val[:5])\n",
    "plt.suptitle('5 example validation patches (top row: source, bottom row: target)');"
   ]
  },
  {
   "cell_type": "markdown",
   "metadata": {},
   "source": [
    "<hr style=\"height:2px;\">\n",
    "\n",
    "# Model"
   ]
  },
  {
   "cell_type": "markdown",
   "metadata": {},
   "source": [
    "Choose configuration options (defaults should be sensible in many cases):"
   ]
  },
  {
   "cell_type": "code",
   "execution_count": null,
   "metadata": {},
   "outputs": [],
   "source": [
    "config = Config(data_axes, n_channel_in, n_channel_out,\n",
    "                probabilistic=True, train_steps_per_epoch=50, train_learning_rate=0.0002)\n",
    "print(config)\n",
    "vars(config)"
   ]
  },
  {
   "cell_type": "markdown",
   "metadata": {},
   "source": [
    "Create CARE model based on chosen options:"
   ]
  },
  {
   "cell_type": "code",
   "execution_count": null,
   "metadata": {},
   "outputs": [],
   "source": [
    "model = CARE(config, 'my_model')"
   ]
  },
  {
   "cell_type": "markdown",
   "metadata": {},
   "source": [
    "<hr style=\"height:2px;\">\n",
    "\n",
    "# Training"
   ]
  },
  {
   "cell_type": "markdown",
   "metadata": {},
   "source": [
    "[TensorBoard](https://www.tensorflow.org/programmers_guide/summaries_and_tensorboard) allows monitoring of progress during training.  \n",
    "Start TensorBoard e.g. with **`tensorboard --logdir=. --reload-interval=2`** and connect to [http://localhost:6006/](http://localhost:6006/) with your browser."
   ]
  },
  {
   "cell_type": "code",
   "execution_count": null,
   "metadata": {},
   "outputs": [],
   "source": [
    "history = model.train(X,Y, validation_data=(X_val,Y_val))"
   ]
  },
  {
   "cell_type": "markdown",
   "metadata": {},
   "source": [
    "Plot final training history (available in TensorBoard during training):"
   ]
  },
  {
   "cell_type": "code",
   "execution_count": null,
   "metadata": {},
   "outputs": [],
   "source": [
    "from csbdeep.plot_utils import plot_history\n",
    "print(sorted(list(history.history.keys())))\n",
    "plt.figure(figsize=(16,5))\n",
    "plot_history(history,['loss','val_loss'],['mse','val_mse','mae','val_mae']);"
   ]
  },
  {
   "cell_type": "markdown",
   "metadata": {},
   "source": [
    "<hr style=\"height:2px;\">\n",
    "\n",
    "# Evaluation\n",
    "\n",
    "Example results for validation images"
   ]
  },
  {
   "cell_type": "code",
   "execution_count": null,
   "metadata": {},
   "outputs": [],
   "source": [
    "model.load_weights() # load best weights according to validation loss"
   ]
  },
  {
   "cell_type": "code",
   "execution_count": null,
   "metadata": {},
   "outputs": [],
   "source": [
    "plt.figure(figsize=(15,12))\n",
    "_P = model.keras_model.predict(X_val[:5])\n",
    "_P_mean  = _P[...,:(_P.shape[-1]//2)]\n",
    "_P_scale = _P[...,(_P.shape[-1]//2):]\n",
    "plot_some(X_val[:5],Y_val[:5],_P_mean,_P_scale,pmax=99.5)\n",
    "plt.suptitle('5 example validation patches\\n'       +\n",
    "             'first row: input (source),  '         +\n",
    "             'second row: target (ground truth),  ' +\n",
    "             'third row: predicted Laplace mean,  ' +\n",
    "             'forth row: predicted Laplace scale')\n",
    "#plt.tight_layout()\n",
    "None;"
   ]
  },
  {
   "cell_type": "markdown",
   "metadata": {},
   "source": [
    "<hr style=\"height:2px;\">\n",
    "\n",
    "# Export model to be used with CSBDeep **Fiji** plugins and **KNIME** workflows\n",
    "\n",
    "See https://github.com/CSBDeep/CSBDeep/wiki/Your-Model-in-Fiji for details."
   ]
  },
  {
   "cell_type": "code",
   "execution_count": null,
   "metadata": {},
   "outputs": [],
   "source": [
    "model.export_TF()"
   ]
  }
 ],
 "metadata": {
  "kernelspec": {
   "display_name": "Python 3",
   "language": "python",
   "name": "python3"
  },
  "language_info": {
   "codemirror_mode": {
    "name": "ipython",
    "version": 3
   },
   "file_extension": ".py",
   "mimetype": "text/x-python",
   "name": "python",
   "nbconvert_exporter": "python",
   "pygments_lexer": "ipython3",
   "version": "3.6.4"
  }
 },
 "nbformat": 4,
 "nbformat_minor": 2
}
